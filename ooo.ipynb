{
 "cells": [
  {
   "cell_type": "markdown",
   "metadata": {},
   "source": [
    "\n",
    "# Function"
   ]
  },
  {
   "cell_type": "code",
   "execution_count": 2,
   "metadata": {},
   "outputs": [
    {
     "name": "stdout",
     "output_type": "stream",
     "text": [
      "tell me your name : \n",
      "welcome  \n"
     ]
    }
   ],
   "source": [
    "def call():\n",
    "    name = input(\"tell me your name : \")\n",
    "    print(f\"welcome {name} \")\n",
    "call()\n"
   ]
  },
  {
   "cell_type": "code",
   "execution_count": null,
   "metadata": {},
   "outputs": [],
   "source": []
  },
  {
   "cell_type": "code",
   "execution_count": 13,
   "metadata": {},
   "outputs": [
    {
     "name": "stdout",
     "output_type": "stream",
     "text": [
      "tell me your gender : fe\n",
      "tell me your name : aa\n",
      "welcome Mrs aa \n"
     ]
    }
   ],
   "source": [
    "def call():\n",
    "    gender = input(\"tell me your gender : \").lower()\n",
    "#     print(f\"welcome {name} \")\n",
    "    if gender == \"male\":\n",
    "        name = input(\"tell me your name : \")\n",
    "        print(f\"welcome Mr {name} \")\n",
    "    else:\n",
    "        name = input(\"tell me your name : \")\n",
    "        print(f\"welcome Mrs {name} \")\n",
    "\n",
    "call()\n"
   ]
  },
  {
   "cell_type": "code",
   "execution_count": 17,
   "metadata": {},
   "outputs": [
    {
     "name": "stdout",
     "output_type": "stream",
     "text": [
      "tell me your gender : 100\n",
      "100 is Even\n"
     ]
    }
   ],
   "source": [
    "def call():\n",
    "    number = int(input(\"tell me your gender : \"))\n",
    "#     print(f\"welcome {name} \")\n",
    "    if number%2 == 0 :\n",
    "        print(f\"{number} is Even\")\n",
    "    else:\n",
    "        print(f\"{number} is Odd\")\n",
    "\n",
    "call()"
   ]
  },
  {
   "cell_type": "code",
   "execution_count": 18,
   "metadata": {},
   "outputs": [
    {
     "name": "stdout",
     "output_type": "stream",
     "text": [
      "Enter Number or -1 to exit: 1\n",
      "1 is Odd\n",
      "Enter Number or -1 to exit: 2\n",
      "2 is Even\n",
      "Enter Number or -1 to exit: -1\n"
     ]
    }
   ],
   "source": [
    "while(True):\n",
    "    number1 = int(input(\"Enter Number or -1 to exit: \"))\n",
    "\n",
    "    def call2():\n",
    "    #     print(f\"welcome {name} \")\n",
    "\n",
    "        if number1 % 2 == 0 :\n",
    "            print(f\"{number1} is Even\")\n",
    "        else:\n",
    "            print(f\"{number1} is Odd\")\n",
    "    if number1 == int(-1):\n",
    "        break\n",
    "    else:\n",
    "        call2()"
   ]
  },
  {
   "cell_type": "code",
   "execution_count": 17,
   "metadata": {},
   "outputs": [
    {
     "name": "stdout",
     "output_type": "stream",
     "text": [
      "7\n",
      "14\n",
      "21\n",
      "28\n",
      "the table not include 35\n",
      "42\n",
      "49\n",
      "56\n",
      "63\n",
      "the table not include 70\n",
      "77\n",
      "84\n",
      "91\n",
      "98\n"
     ]
    }
   ],
   "source": [
    "for num in range(2,101):\n",
    "    if num%7 == 0:\n",
    "        if num%5 != 0:\n",
    "            print(f\"{num}\")\n",
    "            \n",
    "        if num%5 == 0:\n",
    "            print(f\"the table not include {num}\")\n"
   ]
  },
  {
   "cell_type": "code",
   "execution_count": 35,
   "metadata": {},
   "outputs": [
    {
     "ename": "SyntaxError",
     "evalue": "name 'numm' is assigned to before global declaration (<ipython-input-35-b5e5a197c7e9>, line 7)",
     "output_type": "error",
     "traceback": [
      "\u001b[1;36m  File \u001b[1;32m\"<ipython-input-35-b5e5a197c7e9>\"\u001b[1;36m, line \u001b[1;32m7\u001b[0m\n\u001b[1;33m    print(numm)\u001b[0m\n\u001b[1;37m               ^\u001b[0m\n\u001b[1;31mSyntaxError\u001b[0m\u001b[1;31m:\u001b[0m name 'numm' is assigned to before global declaration\n"
     ]
    }
   ],
   "source": [
    "dictionary = {}\n",
    "num11 = int(input(\"Enter Range: \"))\n",
    "for numm in range(1,num11+1):\n",
    "    dictionary[numm] = numm*numm\n",
    "print(dictionary)\n"
   ]
  },
  {
   "cell_type": "code",
   "execution_count": 44,
   "metadata": {},
   "outputs": [
    {
     "name": "stdout",
     "output_type": "stream",
     "text": [
      "10\n",
      "10\n",
      "9\n",
      "10\n"
     ]
    }
   ],
   "source": [
    "mun = 10\n",
    "print(mun)\n",
    "def globall():\n",
    "    global mun\n",
    "    print(mun)\n",
    "    mun = 9\n",
    "    print(mun)\n",
    "\n",
    "globall()\n",
    "print(nuuu)"
   ]
  },
  {
   "cell_type": "markdown",
   "metadata": {},
   "source": [
    "Return"
   ]
  },
  {
   "cell_type": "code",
   "execution_count": 47,
   "metadata": {},
   "outputs": [
    {
     "name": "stdout",
     "output_type": "stream",
     "text": [
      "3\n"
     ]
    }
   ],
   "source": [
    "def globally():\n",
    "    a=1\n",
    "    b=2\n",
    "    return a+b\n",
    "\n",
    "print(globally())\n"
   ]
  },
  {
   "cell_type": "code",
   "execution_count": null,
   "metadata": {},
   "outputs": [],
   "source": []
  }
 ],
 "metadata": {
  "kernelspec": {
   "display_name": "Python 3",
   "language": "python",
   "name": "python3"
  }
 },
 "nbformat": 4,
 "nbformat_minor": 4
}
